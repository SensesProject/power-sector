{
 "cells": [
  {
   "cell_type": "markdown",
   "metadata": {},
   "source": [
    "# Power Sector - Investments\n",
    "\n",
    "First, we load the CSV library and the raw data file."
   ]
  },
  {
   "cell_type": "code",
   "execution_count": 1,
   "metadata": {},
   "outputs": [
    {
     "data": {
      "text/html": [
       "<table class=\"data-frame\"><thead><tr><th></th><th>Model</th><th>Scenario</th><th>Region</th><th>Emissions</th><th>Total energy investment</th><th>Total energy investment (supply side)</th></tr><tr><th></th><th>String</th><th>String</th><th>String</th><th>String⍰</th><th>String⍰</th><th>String⍰</th></tr></thead><tbody><p>240 rows × 35 columns (omitted printing of 29 columns)</p><tr><th>1</th><td>AIM/CGE</td><td>CPol</td><td>World</td><td>558,6841632</td><td>1648,744481</td><td>1397,714254</td></tr><tr><th>2</th><td>AIM/CGE</td><td>NDC</td><td>World</td><td>528,495789</td><td>1820,254669</td><td>1544,745877</td></tr><tr><th>3</th><td>AIM/CGE</td><td>2C</td><td>World</td><td>461,5507989</td><td>2125,759378</td><td>1758,339159</td></tr><tr><th>4</th><td>AIM/CGE</td><td>1.5C</td><td>World</td><td>446,1901822</td><td>2181,653344</td><td>1787,686666</td></tr><tr><th>5</th><td>AIM/CGE</td><td>CPol</td><td>CHN</td><td>122,9446786</td><td>247,3507922</td><td>247,3507922</td></tr><tr><th>6</th><td>AIM/CGE</td><td>NDC</td><td>CHN</td><td>130,9340207</td><td>281,1056124</td><td>286,9162516</td></tr><tr><th>7</th><td>AIM/CGE</td><td>2C</td><td>CHN</td><td>94,2543938</td><td>477,5544646</td><td>439,307789</td></tr><tr><th>8</th><td>AIM/CGE</td><td>1.5C</td><td>CHN</td><td>89,5065117</td><td>496,0875062</td><td>449,220171</td></tr><tr><th>9</th><td>AIM/CGE</td><td>CPol</td><td>EU</td><td>missing</td><td>missing</td><td>missing</td></tr><tr><th>10</th><td>AIM/CGE</td><td>NDC</td><td>EU</td><td>missing</td><td>missing</td><td>missing</td></tr><tr><th>11</th><td>AIM/CGE</td><td>2C</td><td>EU</td><td>missing</td><td>missing</td><td>missing</td></tr><tr><th>12</th><td>AIM/CGE</td><td>1.5C</td><td>EU</td><td>missing</td><td>missing</td><td>missing</td></tr><tr><th>13</th><td>AIM/CGE</td><td>CPol</td><td>IND</td><td>31,08246335</td><td>44,13860968</td><td>44,13860968</td></tr><tr><th>14</th><td>AIM/CGE</td><td>NDC</td><td>IND</td><td>30,39923775</td><td>51,10358052</td><td>52,25218783</td></tr><tr><th>15</th><td>AIM/CGE</td><td>2C</td><td>IND</td><td>21,38348165</td><td>86,59451847</td><td>81,35584468</td></tr><tr><th>16</th><td>AIM/CGE</td><td>1.5C</td><td>IND</td><td>20,40999435</td><td>89,50856574</td><td>83,07344237</td></tr><tr><th>17</th><td>AIM/CGE</td><td>CPol</td><td>USA</td><td>104,4202867</td><td>194,4760944</td><td>194,4760944</td></tr><tr><th>18</th><td>AIM/CGE</td><td>NDC</td><td>USA</td><td>90,7995705</td><td>234,948505</td><td>226,5239861</td></tr><tr><th>19</th><td>AIM/CGE</td><td>2C</td><td>USA</td><td>90,8141601</td><td>225,9433792</td><td>217,1152837</td></tr><tr><th>20</th><td>AIM/CGE</td><td>1.5C</td><td>USA</td><td>88,1646877</td><td>235,3718885</td><td>223,5401639</td></tr><tr><th>21</th><td>AIM/CGE</td><td>CPol</td><td>R5OECD90+EU</td><td>215,5196811</td><td>432,5449425</td><td>432,5449425</td></tr><tr><th>22</th><td>AIM/CGE</td><td>NDC</td><td>R5OECD90+EU</td><td>188,3102662</td><td>555,5889386</td><td>534,7764305</td></tr><tr><th>23</th><td>AIM/CGE</td><td>2C</td><td>R5OECD90+EU</td><td>190,2288542</td><td>565,9583077</td><td>542,1966424</td></tr><tr><th>24</th><td>AIM/CGE</td><td>1.5C</td><td>R5OECD90+EU</td><td>185,440229</td><td>591,1606541</td><td>559,5265252</td></tr><tr><th>25</th><td>AIM/CGE</td><td>CPol</td><td>R5REF</td><td>52,5892748</td><td>112,8322886</td><td>112,8322886</td></tr><tr><th>26</th><td>AIM/CGE</td><td>NDC</td><td>R5REF</td><td>51,6977771</td><td>115,2657453</td><td>116,0380096</td></tr><tr><th>27</th><td>AIM/CGE</td><td>2C</td><td>R5REF</td><td>44,5756221</td><td>161,7009608</td><td>145,5624491</td></tr><tr><th>28</th><td>AIM/CGE</td><td>1.5C</td><td>R5REF</td><td>42,9353862</td><td>172,4996812</td><td>151,8947024</td></tr><tr><th>29</th><td>AIM/CGE</td><td>CPol</td><td>R5ASIA</td><td>190,75965</td><td>355,8526217</td><td>355,8526217</td></tr><tr><th>30</th><td>AIM/CGE</td><td>NDC</td><td>R5ASIA</td><td>196,0457599</td><td>411,3676485</td><td>417,2883278</td></tr><tr><th>&vellip;</th><td>&vellip;</td><td>&vellip;</td><td>&vellip;</td><td>&vellip;</td><td>&vellip;</td><td>&vellip;</td></tr></tbody></table>"
      ],
      "text/latex": [
       "\\begin{tabular}{r|ccccccc}\n",
       "\t& Model & Scenario & Region & Emissions & Total energy investment & Total energy investment (supply side) & \\\\\n",
       "\t\\hline\n",
       "\t& String & String & String & String⍰ & String⍰ & String⍰ & \\\\\n",
       "\t\\hline\n",
       "\t1 & AIM/CGE & CPol & World & 558,6841632 & 1648,744481 & 1397,714254 & $\\dots$ \\\\\n",
       "\t2 & AIM/CGE & NDC & World & 528,495789 & 1820,254669 & 1544,745877 & $\\dots$ \\\\\n",
       "\t3 & AIM/CGE & 2C & World & 461,5507989 & 2125,759378 & 1758,339159 & $\\dots$ \\\\\n",
       "\t4 & AIM/CGE & 1.5C & World & 446,1901822 & 2181,653344 & 1787,686666 & $\\dots$ \\\\\n",
       "\t5 & AIM/CGE & CPol & CHN & 122,9446786 & 247,3507922 & 247,3507922 & $\\dots$ \\\\\n",
       "\t6 & AIM/CGE & NDC & CHN & 130,9340207 & 281,1056124 & 286,9162516 & $\\dots$ \\\\\n",
       "\t7 & AIM/CGE & 2C & CHN & 94,2543938 & 477,5544646 & 439,307789 & $\\dots$ \\\\\n",
       "\t8 & AIM/CGE & 1.5C & CHN & 89,5065117 & 496,0875062 & 449,220171 & $\\dots$ \\\\\n",
       "\t9 & AIM/CGE & CPol & EU &  &  &  & $\\dots$ \\\\\n",
       "\t10 & AIM/CGE & NDC & EU &  &  &  & $\\dots$ \\\\\n",
       "\t11 & AIM/CGE & 2C & EU &  &  &  & $\\dots$ \\\\\n",
       "\t12 & AIM/CGE & 1.5C & EU &  &  &  & $\\dots$ \\\\\n",
       "\t13 & AIM/CGE & CPol & IND & 31,08246335 & 44,13860968 & 44,13860968 & $\\dots$ \\\\\n",
       "\t14 & AIM/CGE & NDC & IND & 30,39923775 & 51,10358052 & 52,25218783 & $\\dots$ \\\\\n",
       "\t15 & AIM/CGE & 2C & IND & 21,38348165 & 86,59451847 & 81,35584468 & $\\dots$ \\\\\n",
       "\t16 & AIM/CGE & 1.5C & IND & 20,40999435 & 89,50856574 & 83,07344237 & $\\dots$ \\\\\n",
       "\t17 & AIM/CGE & CPol & USA & 104,4202867 & 194,4760944 & 194,4760944 & $\\dots$ \\\\\n",
       "\t18 & AIM/CGE & NDC & USA & 90,7995705 & 234,948505 & 226,5239861 & $\\dots$ \\\\\n",
       "\t19 & AIM/CGE & 2C & USA & 90,8141601 & 225,9433792 & 217,1152837 & $\\dots$ \\\\\n",
       "\t20 & AIM/CGE & 1.5C & USA & 88,1646877 & 235,3718885 & 223,5401639 & $\\dots$ \\\\\n",
       "\t21 & AIM/CGE & CPol & R5OECD90+EU & 215,5196811 & 432,5449425 & 432,5449425 & $\\dots$ \\\\\n",
       "\t22 & AIM/CGE & NDC & R5OECD90+EU & 188,3102662 & 555,5889386 & 534,7764305 & $\\dots$ \\\\\n",
       "\t23 & AIM/CGE & 2C & R5OECD90+EU & 190,2288542 & 565,9583077 & 542,1966424 & $\\dots$ \\\\\n",
       "\t24 & AIM/CGE & 1.5C & R5OECD90+EU & 185,440229 & 591,1606541 & 559,5265252 & $\\dots$ \\\\\n",
       "\t25 & AIM/CGE & CPol & R5REF & 52,5892748 & 112,8322886 & 112,8322886 & $\\dots$ \\\\\n",
       "\t26 & AIM/CGE & NDC & R5REF & 51,6977771 & 115,2657453 & 116,0380096 & $\\dots$ \\\\\n",
       "\t27 & AIM/CGE & 2C & R5REF & 44,5756221 & 161,7009608 & 145,5624491 & $\\dots$ \\\\\n",
       "\t28 & AIM/CGE & 1.5C & R5REF & 42,9353862 & 172,4996812 & 151,8947024 & $\\dots$ \\\\\n",
       "\t29 & AIM/CGE & CPol & R5ASIA & 190,75965 & 355,8526217 & 355,8526217 & $\\dots$ \\\\\n",
       "\t30 & AIM/CGE & NDC & R5ASIA & 196,0457599 & 411,3676485 & 417,2883278 & $\\dots$ \\\\\n",
       "\t$\\dots$ & $\\dots$ & $\\dots$ & $\\dots$ & $\\dots$ & $\\dots$ & $\\dots$ &  \\\\\n",
       "\\end{tabular}\n"
      ],
      "text/plain": [
       "240×35 DataFrames.DataFrame. Omitted printing of 31 columns\n",
       "│ Row │ Model         │ Scenario │ Region │ Emissions   │\n",
       "│     │ \u001b[90mString\u001b[39m        │ \u001b[90mString\u001b[39m   │ \u001b[90mString\u001b[39m │ \u001b[90mString⍰\u001b[39m     │\n",
       "├─────┼───────────────┼──────────┼────────┼─────────────┤\n",
       "│ 1   │ AIM/CGE       │ CPol     │ World  │ 558,6841632 │\n",
       "│ 2   │ AIM/CGE       │ NDC      │ World  │ 528,495789  │\n",
       "│ 3   │ AIM/CGE       │ 2C       │ World  │ 461,5507989 │\n",
       "│ 4   │ AIM/CGE       │ 1.5C     │ World  │ 446,1901822 │\n",
       "│ 5   │ AIM/CGE       │ CPol     │ CHN    │ 122,9446786 │\n",
       "│ 6   │ AIM/CGE       │ NDC      │ CHN    │ 130,9340207 │\n",
       "│ 7   │ AIM/CGE       │ 2C       │ CHN    │ 94,2543938  │\n",
       "│ 8   │ AIM/CGE       │ 1.5C     │ CHN    │ 89,5065117  │\n",
       "│ 9   │ AIM/CGE       │ CPol     │ EU     │ \u001b[90mmissing\u001b[39m     │\n",
       "│ 10  │ AIM/CGE       │ NDC      │ EU     │ \u001b[90mmissing\u001b[39m     │\n",
       "⋮\n",
       "│ 230 │ WITCH-GLOBIOM │ NDC      │ R5ASIA │ 245,3311324 │\n",
       "│ 231 │ WITCH-GLOBIOM │ 2C       │ R5ASIA │ 210,2117415 │\n",
       "│ 232 │ WITCH-GLOBIOM │ 1.5C     │ R5ASIA │ 196,6955136 │\n",
       "│ 233 │ WITCH-GLOBIOM │ CPol     │ R5MAF  │ 56,22273639 │\n",
       "│ 234 │ WITCH-GLOBIOM │ NDC      │ R5MAF  │ 54,7218645  │\n",
       "│ 235 │ WITCH-GLOBIOM │ 2C       │ R5MAF  │ 46,76071028 │\n",
       "│ 236 │ WITCH-GLOBIOM │ 1.5C     │ R5MAF  │ 44,30761652 │\n",
       "│ 237 │ WITCH-GLOBIOM │ CPol     │ R5LAM  │ 33,23520559 │\n",
       "│ 238 │ WITCH-GLOBIOM │ NDC      │ R5LAM  │ 27,97424942 │\n",
       "│ 239 │ WITCH-GLOBIOM │ 2C       │ R5LAM  │ 27,71032605 │\n",
       "│ 240 │ WITCH-GLOBIOM │ 1.5C     │ R5LAM  │ 26,1519293  │"
      ]
     },
     "execution_count": 1,
     "metadata": {},
     "output_type": "execute_result"
    }
   ],
   "source": [
    "using CSV\n",
    "\n",
    "data = CSV.read(\"Investment_Avg_Annual_2016-2030.csv\")"
   ]
  },
  {
   "cell_type": "markdown",
   "metadata": {},
   "source": [
    "Next, we define the models, regions and scenarios that we want for the visualisation."
   ]
  },
  {
   "cell_type": "code",
   "execution_count": 2,
   "metadata": {},
   "outputs": [
    {
     "data": {
      "text/plain": [
       "(\"1.5C\", \"CPol\", \"NDC\", \"2C\")"
      ]
     },
     "execution_count": 2,
     "metadata": {},
     "output_type": "execute_result"
    }
   ],
   "source": [
    "MODELS = (\n",
    "  \"MESSAGEix-GLOBIOM\",\n",
    "  \"REMIND-MAgPIE\"\n",
    ")\n",
    "REGIONS = (\n",
    "  \"World\",\n",
    ")\n",
    "SCENARIOS = (\n",
    "  \"1.5C\",\n",
    "  \"CPol\",\n",
    "  \"NDC\",\n",
    "  \"2C\"\n",
    ")"
   ]
  },
  {
   "cell_type": "markdown",
   "metadata": {},
   "source": [
    "We loop over the data and for every row, we check if the row’s model, region and scenario are present in our previously defined tuples."
   ]
  },
  {
   "cell_type": "code",
   "execution_count": 3,
   "metadata": {},
   "outputs": [
    {
     "data": {
      "text/html": [
       "<table class=\"data-frame\"><thead><tr><th></th><th>Model</th><th>Scenario</th><th>Region</th><th>Emissions</th><th>Total energy investment</th><th>Total energy investment (supply side)</th></tr><tr><th></th><th>String</th><th>String</th><th>String</th><th>String⍰</th><th>String⍰</th><th>String⍰</th></tr></thead><tbody><p>8 rows × 35 columns (omitted printing of 29 columns)</p><tr><th>1</th><td>MESSAGEix-GLOBIOM</td><td>CPol</td><td>World</td><td>554,7430459</td><td>1840,292875</td><td>1589,965987</td></tr><tr><th>2</th><td>MESSAGEix-GLOBIOM</td><td>NDC</td><td>World</td><td>538,05683</td><td>1856,981337</td><td>1596,200599</td></tr><tr><th>3</th><td>MESSAGEix-GLOBIOM</td><td>2C</td><td>World</td><td>499,8735038</td><td>1928,924247</td><td>1648,742648</td></tr><tr><th>4</th><td>MESSAGEix-GLOBIOM</td><td>1.5C</td><td>World</td><td>452,0490404</td><td>2072,417871</td><td>1734,373507</td></tr><tr><th>5</th><td>REMIND-MAgPIE</td><td>CPol</td><td>World</td><td>567,5062941</td><td>2332,986269</td><td>2078,532359</td></tr><tr><th>6</th><td>REMIND-MAgPIE</td><td>NDC</td><td>World</td><td>549,8231141</td><td>2418,179385</td><td>2142,023718</td></tr><tr><th>7</th><td>REMIND-MAgPIE</td><td>2C</td><td>World</td><td>498,3795341</td><td>2760,702066</td><td>2427,545334</td></tr><tr><th>8</th><td>REMIND-MAgPIE</td><td>1.5C</td><td>World</td><td>478,9146641</td><td>2988,383998</td><td>2605,873805</td></tr></tbody></table>"
      ],
      "text/latex": [
       "\\begin{tabular}{r|ccccccc}\n",
       "\t& Model & Scenario & Region & Emissions & Total energy investment & Total energy investment (supply side) & \\\\\n",
       "\t\\hline\n",
       "\t& String & String & String & String⍰ & String⍰ & String⍰ & \\\\\n",
       "\t\\hline\n",
       "\t1 & MESSAGEix-GLOBIOM & CPol & World & 554,7430459 & 1840,292875 & 1589,965987 & $\\dots$ \\\\\n",
       "\t2 & MESSAGEix-GLOBIOM & NDC & World & 538,05683 & 1856,981337 & 1596,200599 & $\\dots$ \\\\\n",
       "\t3 & MESSAGEix-GLOBIOM & 2C & World & 499,8735038 & 1928,924247 & 1648,742648 & $\\dots$ \\\\\n",
       "\t4 & MESSAGEix-GLOBIOM & 1.5C & World & 452,0490404 & 2072,417871 & 1734,373507 & $\\dots$ \\\\\n",
       "\t5 & REMIND-MAgPIE & CPol & World & 567,5062941 & 2332,986269 & 2078,532359 & $\\dots$ \\\\\n",
       "\t6 & REMIND-MAgPIE & NDC & World & 549,8231141 & 2418,179385 & 2142,023718 & $\\dots$ \\\\\n",
       "\t7 & REMIND-MAgPIE & 2C & World & 498,3795341 & 2760,702066 & 2427,545334 & $\\dots$ \\\\\n",
       "\t8 & REMIND-MAgPIE & 1.5C & World & 478,9146641 & 2988,383998 & 2605,873805 & $\\dots$ \\\\\n",
       "\\end{tabular}\n"
      ],
      "text/plain": [
       "8×35 DataFrames.DataFrame. Omitted printing of 31 columns\n",
       "│ Row │ Model             │ Scenario │ Region │ Emissions   │\n",
       "│     │ \u001b[90mString\u001b[39m            │ \u001b[90mString\u001b[39m   │ \u001b[90mString\u001b[39m │ \u001b[90mString⍰\u001b[39m     │\n",
       "├─────┼───────────────────┼──────────┼────────┼─────────────┤\n",
       "│ 1   │ MESSAGEix-GLOBIOM │ CPol     │ World  │ 554,7430459 │\n",
       "│ 2   │ MESSAGEix-GLOBIOM │ NDC      │ World  │ 538,05683   │\n",
       "│ 3   │ MESSAGEix-GLOBIOM │ 2C       │ World  │ 499,8735038 │\n",
       "│ 4   │ MESSAGEix-GLOBIOM │ 1.5C     │ World  │ 452,0490404 │\n",
       "│ 5   │ REMIND-MAgPIE     │ CPol     │ World  │ 567,5062941 │\n",
       "│ 6   │ REMIND-MAgPIE     │ NDC      │ World  │ 549,8231141 │\n",
       "│ 7   │ REMIND-MAgPIE     │ 2C       │ World  │ 498,3795341 │\n",
       "│ 8   │ REMIND-MAgPIE     │ 1.5C     │ World  │ 478,9146641 │"
      ]
     },
     "execution_count": 3,
     "metadata": {},
     "output_type": "execute_result"
    }
   ],
   "source": [
    "function included(d)\n",
    "    return in(d[:Model], MODELS) && in(d[:Region], REGIONS) && in(d[:Scenario], SCENARIOS)\n",
    "end\n",
    "\n",
    "datum = filter(included, data)"
   ]
  },
  {
   "cell_type": "markdown",
   "metadata": {},
   "source": [
    "Next, we define the list of variables we are interested in."
   ]
  },
  {
   "cell_type": "code",
   "execution_count": 4,
   "metadata": {},
   "outputs": [
    {
     "data": {
      "text/plain": [
       "(\"Energy Supply|Electricity|Coal|w/ CCS\", \"Energy Supply|Electricity|Coal|w/o CCS\", \"Energy Supply|Electricity|Gas|w/ CCS\", \"Energy Supply|Electricity|Gas|w/o CCS\", \"Energy Supply|Electricity|Oil|w/ CCS\", \"Energy Supply|Electricity|Biomass|w/ CCS\", \"Energy Supply|Electricity|Biomass|w/o CCS\", \"Energy Supply|Electricity|Nuclear\", \"Energy Supply|Electricity|Hydro\", \"Energy Supply|Electricity|Solar\", \"Energy Supply|Electricity|Wind\", \"Energy Supply|Electricity|Geothermal\", \"Energy Supply|Electricity|Ocean\", \"Energy Supply|Electricity|Transmission and Distribution\", \"Energy Supply|Electricity|Electricity Storage\")"
      ]
     },
     "execution_count": 4,
     "metadata": {},
     "output_type": "execute_result"
    }
   ],
   "source": [
    "VARIABLES = (\n",
    "  \"Energy Supply|Electricity|Coal|w/ CCS\",\n",
    "  \"Energy Supply|Electricity|Coal|w/o CCS\",\n",
    "  \"Energy Supply|Electricity|Gas|w/ CCS\",\n",
    "  \"Energy Supply|Electricity|Gas|w/o CCS\",\n",
    "  \"Energy Supply|Electricity|Oil|w/ CCS\",\n",
    "  \"Energy Supply|Electricity|Biomass|w/ CCS\",\n",
    "  \"Energy Supply|Electricity|Biomass|w/o CCS\",\n",
    "  \"Energy Supply|Electricity|Nuclear\",\n",
    "  \"Energy Supply|Electricity|Hydro\",\n",
    "  \"Energy Supply|Electricity|Solar\",\n",
    "  \"Energy Supply|Electricity|Wind\",\n",
    "  \"Energy Supply|Electricity|Geothermal\",\n",
    "  \"Energy Supply|Electricity|Ocean\",\n",
    "  \"Energy Supply|Electricity|Transmission and Distribution\",\n",
    "  \"Energy Supply|Electricity|Electricity Storage\"\n",
    ")"
   ]
  },
  {
   "cell_type": "code",
   "execution_count": 7,
   "metadata": {},
   "outputs": [
    {
     "data": {
      "text/plain": [
       "findValue (generic function with 1 method)"
      ]
     },
     "execution_count": 7,
     "metadata": {},
     "output_type": "execute_result"
    }
   ],
   "source": [
    "function findValue(scenario, variable, region, model)\n",
    "    row = filter(row -> row[:Scenario] == scenario && row[:Region] == region && row[:Model] == model, datum)\n",
    "    return size(row, 1) > 0 ? parse(Float64, replace(row[1, Symbol(variable)], \",\" => \".\")) : 0\n",
    "end"
   ]
  },
  {
   "cell_type": "markdown",
   "metadata": {},
   "source": [
    "Now, we loop over each row and also over each variable. We get the value from the row and convert it into a number. We clean up the label from the variable name and push everything into our dictionary. Finally, we save everything to our data file."
   ]
  },
  {
   "cell_type": "code",
   "execution_count": 9,
   "metadata": {},
   "outputs": [
    {
     "data": {
      "text/plain": [
       "\"../../src/assets/data/Investments.csv\""
      ]
     },
     "execution_count": 9,
     "metadata": {},
     "output_type": "execute_result"
    }
   ],
   "source": [
    "runs = []\n",
    "\n",
    "for scenario in SCENARIOS\n",
    "    for variable in VARIABLES\n",
    "        for region in REGIONS\n",
    "            for model in MODELS\n",
    "                value = findValue(scenario, variable, region, model)\n",
    "                ref = findValue(\"CPol\", variable, region, model)\n",
    "                label = replace(variable, \"Energy Supply|Electricity|\" => \"\")\n",
    "                push!(runs, (model = model, scenario = scenario, region = region, variable = label, value = value, ref = ref))\n",
    "            end\n",
    "        end\n",
    "    end\n",
    "end\n",
    "\n",
    "CSV.write(\"../../src/assets/data/Investments.csv\", runs)"
   ]
  },
  {
   "cell_type": "code",
   "execution_count": null,
   "metadata": {},
   "outputs": [],
   "source": []
  }
 ],
 "metadata": {
  "kernelspec": {
   "display_name": "Julia 1.1.0",
   "language": "julia",
   "name": "julia-1.1"
  },
  "language_info": {
   "file_extension": ".jl",
   "mimetype": "application/julia",
   "name": "julia",
   "version": "1.1.0"
  }
 },
 "nbformat": 4,
 "nbformat_minor": 4
}
